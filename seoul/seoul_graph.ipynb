{
 "cells": [
  {
   "cell_type": "code",
   "execution_count": 12,
   "id": "a35d7495-44ec-43cb-b951-532be328dcf2",
   "metadata": {},
   "outputs": [],
   "source": [
    "import pandas as pd\n",
    "import matplotlib.pyplot as plt"
   ]
  },
  {
   "cell_type": "code",
   "execution_count": null,
   "id": "b9a97dbb-c9ce-458f-84f3-7fca976f9687",
   "metadata": {},
   "outputs": [],
   "source": [
    "# 음식물 쓰레기 양이 많은 이유?\n",
    "# 1인가구의 배달 음식 양이 많아서가 아닐까.\n",
    "# 서울시 음식물 처리량(자치구별 인구수에 대해 비율 나타내기), 배달 앱 이용 데이터, 1인가구 비율 "
   ]
  },
  {
   "cell_type": "code",
   "execution_count": 13,
   "id": "83febf31-73d4-4b17-b2f1-c054659c38df",
   "metadata": {},
   "outputs": [
    {
     "data": {
      "text/html": [
       "<div>\n",
       "<style scoped>\n",
       "    .dataframe tbody tr th:only-of-type {\n",
       "        vertical-align: middle;\n",
       "    }\n",
       "\n",
       "    .dataframe tbody tr th {\n",
       "        vertical-align: top;\n",
       "    }\n",
       "\n",
       "    .dataframe thead th {\n",
       "        text-align: right;\n",
       "    }\n",
       "</style>\n",
       "<table border=\"1\" class=\"dataframe\">\n",
       "  <thead>\n",
       "    <tr style=\"text-align: right;\">\n",
       "      <th></th>\n",
       "      <th>자치구별(1)</th>\n",
       "      <th>자치구별(2)</th>\n",
       "      <th>소계</th>\n",
       "      <th>소계.1</th>\n",
       "      <th>소계.2</th>\n",
       "      <th>사료화</th>\n",
       "      <th>퇴비화</th>\n",
       "      <th>하수병합</th>\n",
       "      <th>기타</th>\n",
       "      <th>소계.3</th>\n",
       "    </tr>\n",
       "  </thead>\n",
       "  <tbody>\n",
       "    <tr>\n",
       "      <th>0</th>\n",
       "      <td>서울시</td>\n",
       "      <td>소계</td>\n",
       "      <td>2539.7</td>\n",
       "      <td>-</td>\n",
       "      <td>2539.7</td>\n",
       "      <td>1207.4</td>\n",
       "      <td>1105.9</td>\n",
       "      <td>-</td>\n",
       "      <td>226.4</td>\n",
       "      <td>-</td>\n",
       "    </tr>\n",
       "    <tr>\n",
       "      <th>1</th>\n",
       "      <td>서울시</td>\n",
       "      <td>종로구</td>\n",
       "      <td>76.1</td>\n",
       "      <td>-</td>\n",
       "      <td>76.1</td>\n",
       "      <td>65.4</td>\n",
       "      <td>10.3</td>\n",
       "      <td>-</td>\n",
       "      <td>0.4</td>\n",
       "      <td>-</td>\n",
       "    </tr>\n",
       "    <tr>\n",
       "      <th>2</th>\n",
       "      <td>서울시</td>\n",
       "      <td>중구</td>\n",
       "      <td>80.8</td>\n",
       "      <td>-</td>\n",
       "      <td>80.8</td>\n",
       "      <td>41.4</td>\n",
       "      <td>37.0</td>\n",
       "      <td>-</td>\n",
       "      <td>1.7</td>\n",
       "      <td>-</td>\n",
       "    </tr>\n",
       "    <tr>\n",
       "      <th>3</th>\n",
       "      <td>서울시</td>\n",
       "      <td>용산구</td>\n",
       "      <td>63.7</td>\n",
       "      <td>-</td>\n",
       "      <td>63.7</td>\n",
       "      <td>4.7</td>\n",
       "      <td>50.3</td>\n",
       "      <td>-</td>\n",
       "      <td>8.7</td>\n",
       "      <td>-</td>\n",
       "    </tr>\n",
       "    <tr>\n",
       "      <th>4</th>\n",
       "      <td>서울시</td>\n",
       "      <td>성동구</td>\n",
       "      <td>77.9</td>\n",
       "      <td>-</td>\n",
       "      <td>77.9</td>\n",
       "      <td>38.7</td>\n",
       "      <td>38.6</td>\n",
       "      <td>-</td>\n",
       "      <td>0.9</td>\n",
       "      <td>-</td>\n",
       "    </tr>\n",
       "  </tbody>\n",
       "</table>\n",
       "</div>"
      ],
      "text/plain": [
       "  자치구별(1) 자치구별(2)      소계 소계.1    소계.2     사료화     퇴비화 하수병합     기타 소계.3\n",
       "0     서울시      소계  2539.7    -  2539.7  1207.4  1105.9    -  226.4    -\n",
       "1     서울시     종로구    76.1    -    76.1    65.4    10.3    -    0.4    -\n",
       "2     서울시      중구    80.8    -    80.8    41.4    37.0    -    1.7    -\n",
       "3     서울시     용산구    63.7    -    63.7     4.7    50.3    -    8.7    -\n",
       "4     서울시     성동구    77.9    -    77.9    38.7    38.6    -    0.9    -"
      ]
     },
     "execution_count": 13,
     "metadata": {},
     "output_type": "execute_result"
    }
   ],
   "source": [
    "food_garbage = './서울시_음식물쓰레기_통계.csv'\n",
    "fg = pd.read_csv(food_garbage, header=4, index_col=False)\n",
    "fg.head()"
   ]
  },
  {
   "cell_type": "code",
   "execution_count": 33,
   "id": "bbfd135c-9161-4768-aa5f-86c7426577b6",
   "metadata": {},
   "outputs": [
    {
     "name": "stderr",
     "output_type": "stream",
     "text": [
      "C:\\Users\\Playdata\\AppData\\Local\\Temp\\ipykernel_14620\\2031300458.py:3: SettingWithCopyWarning: \n",
      "A value is trying to be set on a copy of a slice from a DataFrame\n",
      "\n",
      "See the caveats in the documentation: https://pandas.pydata.org/pandas-docs/stable/user_guide/indexing.html#returning-a-view-versus-a-copy\n",
      "  seoul_all.rename(columns={'자치구별(2)': '자치구별'}, inplace=True)\n"
     ]
    }
   ],
   "source": [
    "seoul_col = fg[['자치구별(2)','소계']]\n",
    "seoul_all = seoul_col.iloc[1:]\n",
    "seoul_all.rename(columns={'자치구별(2)': '자치구별'}, inplace=True)"
   ]
  },
  {
   "cell_type": "code",
   "execution_count": 34,
   "id": "a05c8cf0-3346-4a34-81e5-c4b2b150e155",
   "metadata": {},
   "outputs": [
    {
     "data": {
      "text/html": [
       "<div>\n",
       "<style scoped>\n",
       "    .dataframe tbody tr th:only-of-type {\n",
       "        vertical-align: middle;\n",
       "    }\n",
       "\n",
       "    .dataframe tbody tr th {\n",
       "        vertical-align: top;\n",
       "    }\n",
       "\n",
       "    .dataframe thead th {\n",
       "        text-align: right;\n",
       "    }\n",
       "</style>\n",
       "<table border=\"1\" class=\"dataframe\">\n",
       "  <thead>\n",
       "    <tr style=\"text-align: right;\">\n",
       "      <th></th>\n",
       "      <th>자치구별</th>\n",
       "      <th>소계</th>\n",
       "    </tr>\n",
       "  </thead>\n",
       "  <tbody>\n",
       "    <tr>\n",
       "      <th>1</th>\n",
       "      <td>종로구</td>\n",
       "      <td>76.1</td>\n",
       "    </tr>\n",
       "    <tr>\n",
       "      <th>2</th>\n",
       "      <td>중구</td>\n",
       "      <td>80.8</td>\n",
       "    </tr>\n",
       "    <tr>\n",
       "      <th>3</th>\n",
       "      <td>용산구</td>\n",
       "      <td>63.7</td>\n",
       "    </tr>\n",
       "    <tr>\n",
       "      <th>4</th>\n",
       "      <td>성동구</td>\n",
       "      <td>77.9</td>\n",
       "    </tr>\n",
       "    <tr>\n",
       "      <th>5</th>\n",
       "      <td>광진구</td>\n",
       "      <td>86.8</td>\n",
       "    </tr>\n",
       "  </tbody>\n",
       "</table>\n",
       "</div>"
      ],
      "text/plain": [
       "  자치구별    소계\n",
       "1  종로구  76.1\n",
       "2   중구  80.8\n",
       "3  용산구  63.7\n",
       "4  성동구  77.9\n",
       "5  광진구  86.8"
      ]
     },
     "execution_count": 34,
     "metadata": {},
     "output_type": "execute_result"
    }
   ],
   "source": [
    "seoul_all.shape\n",
    "seoul_all.head()"
   ]
  },
  {
   "cell_type": "code",
   "execution_count": 48,
   "id": "8661ebf9-829c-4cf6-a6b5-32aa4748bf9c",
   "metadata": {},
   "outputs": [
    {
     "data": {
      "text/plain": [
       "<Figure size 2000x2000 with 0 Axes>"
      ]
     },
     "metadata": {},
     "output_type": "display_data"
    },
    {
     "data": {
      "image/png": "[encoded data removed]",
      "text/plain": [
       "<Figure size 640x480 with 1 Axes>"
      ]
     },
     "metadata": {},
     "output_type": "display_data"
    }
   ],
   "source": [
    "plt.figure(figsize=(20, 20))\n",
    "seoul_all.plot(kind='bar',x='자치구별', y='소계')\n",
    "plt.title('서울 자치구별 음식물 쓰레기 배출량')\n",
    "plt.legend()\n",
    "plt.xticks(rotation=70)\n",
    "plt.show()"
   ]
  },
  {
   "cell_type": "code",
   "execution_count": null,
   "id": "a7b9b221-64f0-41ae-9912-24740cfe422d",
   "metadata": {},
   "outputs": [],
   "source": []
  },
  {
   "cell_type": "code",
   "execution_count": null,
   "id": "549345db-b915-4a13-b241-0ca711890018",
   "metadata": {},
   "outputs": [],
   "source": []
  },
  {
   "cell_type": "code",
   "execution_count": null,
   "id": "e46fef40-7483-4c74-8872-7d04a5ceb989",
   "metadata": {},
   "outputs": [],
   "source": []
  }
 ],
 "metadata": {
  "kernelspec": {
   "display_name": "Python 3 (ipykernel)",
   "language": "python",
   "name": "python3"
  },
  "language_info": {
   "codemirror_mode": {
    "name": "ipython",
    "version": 3
   },
   "file_extension": ".py",
   "mimetype": "text/x-python",
   "name": "python",
   "nbconvert_exporter": "python",
   "pygments_lexer": "ipython3",
   "version": "3.11.4"
  }
 },
 "nbformat": 4,
 "nbformat_minor": 5
}
